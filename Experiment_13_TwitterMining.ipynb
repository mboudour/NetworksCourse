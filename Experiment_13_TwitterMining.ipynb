{
 "cells": [
  {
   "cell_type": "markdown",
   "metadata": {},
   "source": [
    "<span style=\"font-size:large;\">\n",
    "<div style=\"text-align: right\">CSTS-UH 1078 <b>Networks</b><br/>\n",
    "Faculty: <b>Moses Boudourides</b><br/>\n",
    "Fall Semester 2019<br/>\n",
    "New York University Abu Dhabi</div>"
   ]
  },
  {
   "cell_type": "markdown",
   "metadata": {},
   "source": [
    "## <span style=\"color:red\">EXPERIMENT 13</span>\n",
    "# <span style=\"color:green\">Twitter Mining"
   ]
  },
  {
   "cell_type": "code",
   "execution_count": 2,
   "metadata": {},
   "outputs": [
    {
     "name": "stdout",
     "output_type": "stream",
     "text": [
      "utils_tweets imported\n"
     ]
    }
   ],
   "source": [
    "import pandas as pd\n",
    "import json \n",
    "import os\n",
    "import imp\n",
    "import datetime\n",
    "import twitter ## pip install --user python-twitter\n",
    "import os\n",
    "os.chdir(\"/Volumes/LaCie/WorkPlaces/Python Projects 2/2 NYUAD Networks/CourseNotebooks/Utilities/TwitterUtils/\")\n",
    "from utils_tweets import create_df\n",
    "import collect_tweets_gkeramidas as ctn"
   ]
  },
  {
   "cell_type": "markdown",
   "metadata": {},
   "source": [
    "**To be able to use the following script, one needs to have:**\n",
    "* **Twitter account**\n",
    "* **Twitter Developper's new app (credentials needed below)**"
   ]
  },
  {
   "cell_type": "code",
   "execution_count": 3,
   "metadata": {},
   "outputs": [],
   "source": [
    "# Set the following dirs in your computer:\n",
    "\n",
    "input_dir='../..'\n",
    "output_dir='Out_json'\n",
    "\n",
    "# Run \"cred_dic=None\" only the first time! Subsequently, a cred_dir is\n",
    "# created and you need to write its pwd in the line below.\n",
    "\n",
    "# cred_dic=None \n",
    "cred_dic='credentials/auth_cred.txt'\n",
    "\n",
    "pp= !pwd # for Mac OS X or Unix\n",
    "# pp = !cd #in Windows\n",
    "\n",
    "os.chdir(input_dir)\n",
    "os.chdir(pp[0])"
   ]
  },
  {
   "cell_type": "markdown",
   "metadata": {},
   "source": [
    "### **Authentication and login in Twitter API**"
   ]
  },
  {
   "cell_type": "code",
   "execution_count": 3,
   "metadata": {},
   "outputs": [],
   "source": [
    "vv=ctn.UserAuth(auth_file=cred_dic)"
   ]
  },
  {
   "cell_type": "markdown",
   "metadata": {},
   "source": [
    "### **After the authentication tokens are known, one has to insert them below by decommenting and running the following three cells:**"
   ]
  },
  {
   "cell_type": "code",
   "execution_count": 4,
   "metadata": {
    "scrolled": true
   },
   "outputs": [],
   "source": [
    "vv.login()"
   ]
  },
  {
   "cell_type": "code",
   "execution_count": 5,
   "metadata": {},
   "outputs": [
    {
     "name": "stdout",
     "output_type": "stream",
     "text": [
      "{\"created_at\": \"Mon Dec 29 11:20:53 +0000 2008\", \"description\": \"\\u30e2\\u30fc\\u30bc\\u30ba\", \"favourites_count\": 1199, \"followers_count\": 1196, \"friends_count\": 428, \"geo_enabled\": true, \"id\": 18447918, \"id_str\": \"18447918\", \"lang\": \"en\", \"listed_count\": 142, \"location\": \"Patras, Greece\", \"name\": \"Moses Boudourides\", \"profile_background_color\": \"9C584B\", \"profile_background_image_url\": \"http://abs.twimg.com/images/themes/theme2/bg.gif\", \"profile_background_image_url_https\": \"https://abs.twimg.com/images/themes/theme2/bg.gif\", \"profile_background_tile\": true, \"profile_banner_url\": \"https://pbs.twimg.com/profile_banners/18447918/1377851188\", \"profile_image_url\": \"http://pbs.twimg.com/profile_images/378800000721710479/c093b7142774b1c8a07b48a8edca8d37_normal.png\", \"profile_image_url_https\": \"https://pbs.twimg.com/profile_images/378800000721710479/c093b7142774b1c8a07b48a8edca8d37_normal.png\", \"profile_link_color\": \"FF0D00\", \"profile_sidebar_border_color\": \"F2E195\", \"profile_sidebar_fill_color\": \"FFF7CC\", \"profile_text_color\": \"0C3E53\", \"profile_use_background_image\": true, \"screen_name\": \"mosabou\", \"status\": {\"created_at\": \"Fri Feb 01 09:11:15 +0000 2019\", \"favorite_count\": 1, \"id\": 1091262694831915009, \"id_str\": \"1091262694831915009\", \"lang\": \"und\", \"quoted_status_id\": 1091006673093906433, \"quoted_status_id_str\": \"1091006673093906433\", \"retweet_count\": 1, \"source\": \"<a href=\\\"https://about.twitter.com/products/tweetdeck\\\" rel=\\\"nofollow\\\">TweetDeck</a>\", \"text\": \"#DigitalHumanities #DH #humanidadesdigitales https://t.co/LV1xu7Gi8E\"}, \"statuses_count\": 24478, \"url\": \"https://t.co/1zll77DosO\"}\n"
     ]
    }
   ],
   "source": [
    "vv.check_login()"
   ]
  },
  {
   "cell_type": "code",
   "execution_count": 6,
   "metadata": {},
   "outputs": [],
   "source": [
    "twi_api=vv.get_auth()"
   ]
  },
  {
   "cell_type": "markdown",
   "metadata": {},
   "source": [
    "## Info about how to build a Twitter query is available at: https://dev.twitter.com/rest/public/search.**\n",
    "## You are prompted to download at least 10000 tweets!\n",
    "## You may use any search term (replacing spaces by \"%20\") or a Trend as a search term. \n",
    "## It is recommended that you may use the syntax of the Twitter query (the string included between \"q=\" and \"&src=\")."
   ]
  },
  {
   "cell_type": "code",
   "execution_count": 7,
   "metadata": {},
   "outputs": [],
   "source": [
    "search_term=\"climate%20change\"\n",
    "st=\"Climate Change\"\n",
    "date=datetime.datetime.today().strftime('%Y_%m_%d')"
   ]
  },
  {
   "cell_type": "code",
   "execution_count": 8,
   "metadata": {},
   "outputs": [],
   "source": [
    "sea=ctn.TwitterSearch(twi_api,search_text=search_term,working_path=output_dir,out_file_dir=None,\n",
    "max_pages=10,results_per_page=100,sin_id=None,max_id=None,verbose=True)"
   ]
  },
  {
   "cell_type": "markdown",
   "metadata": {},
   "source": [
    "**Notice that the execution of the following cell will automatically stop when the rate limit is exceeded.**"
   ]
  },
  {
   "cell_type": "code",
   "execution_count": 9,
   "metadata": {
    "scrolled": true
   },
   "outputs": [
    {
     "name": "stdout",
     "output_type": "stream",
     "text": [
      "20017 tweets preloaded from /Users/mosesboudourides/Dropbox/Python Projects/452_Assignments/Assignment_09/Out_json/Output/climate%20change.ids\n",
      "None ================\n",
      "[{u'message': u'Rate limit exceeded', u'code': 88}]\n"
     ]
    }
   ],
   "source": [
    "try:\n",
    "    sea.streamsearch()\n",
    "except Exception,e:\n",
    "    print e"
   ]
  },
  {
   "cell_type": "markdown",
   "metadata": {},
   "source": [
    "**Count number of collected tweets**"
   ]
  },
  {
   "cell_type": "code",
   "execution_count": 10,
   "metadata": {},
   "outputs": [
    {
     "name": "stdout",
     "output_type": "stream",
     "text": [
      "   20017 Out_json/Output/climate%20change.json\r\n"
     ]
    }
   ],
   "source": [
    "!wc -l Out_json/Output/*.json"
   ]
  },
  {
   "cell_type": "markdown",
   "metadata": {},
   "source": [
    "### **<font color='red'>To interrupt the collection of tweets initiated above, one has to click \"Kernel > Interrupt\" from the Notebook menu.</font>**"
   ]
  },
  {
   "cell_type": "code",
   "execution_count": 11,
   "metadata": {},
   "outputs": [
    {
     "name": "stdout",
     "output_type": "stream",
     "text": [
      "Number of tweets in climate%20change.json = 20017\n"
     ]
    }
   ],
   "source": [
    "json_file=\"Out_json/Output/\"+search_term+\".json\"\n",
    "fop =open(json_file)\n",
    "tweets_list=[]\n",
    "for line in fop:\n",
    "    try:\n",
    "        lin=json.loads(line)\n",
    "        tweets_list.append(lin) #e)\n",
    "    except Exception,e:\n",
    "        print \n",
    "print \"Number of tweets in %s = %i\" %(json_file.replace(\"Out_json/Output/\",\"\"),len(tweets_list))"
   ]
  },
  {
   "cell_type": "code",
   "execution_count": 12,
   "metadata": {
    "scrolled": true
   },
   "outputs": [
    {
     "data": {
      "text/html": [
       "<div>\n",
       "<style scoped>\n",
       "    .dataframe tbody tr th:only-of-type {\n",
       "        vertical-align: middle;\n",
       "    }\n",
       "\n",
       "    .dataframe tbody tr th {\n",
       "        vertical-align: top;\n",
       "    }\n",
       "\n",
       "    .dataframe thead th {\n",
       "        text-align: right;\n",
       "    }\n",
       "</style>\n",
       "<table border=\"1\" class=\"dataframe\">\n",
       "  <thead>\n",
       "    <tr style=\"text-align: right;\">\n",
       "      <th></th>\n",
       "      <th>twitter_id</th>\n",
       "      <th>created_at</th>\n",
       "      <th>screen_name</th>\n",
       "      <th>hashtags_list</th>\n",
       "      <th>mentions_list</th>\n",
       "      <th>lang</th>\n",
       "      <th>text</th>\n",
       "    </tr>\n",
       "  </thead>\n",
       "  <tbody>\n",
       "    <tr>\n",
       "      <th>2</th>\n",
       "      <td>1094744351803170816</td>\n",
       "      <td>Sun Feb 10 23:46:07 +0000 2019</td>\n",
       "      <td>amyklobuchar</td>\n",
       "      <td>NaN</td>\n",
       "      <td>[realDonaldTrump]</td>\n",
       "      <td>en</td>\n",
       "      <td>Science is on my side, @realDonaldTrump. Looki...</td>\n",
       "    </tr>\n",
       "    <tr>\n",
       "      <th>0</th>\n",
       "      <td>1094622889054212096</td>\n",
       "      <td>Sun Feb 10 15:43:28 +0000 2019</td>\n",
       "      <td>AOC</td>\n",
       "      <td>NaN</td>\n",
       "      <td>NaN</td>\n",
       "      <td>en</td>\n",
       "      <td>“Climate change is not a market glitch to be f...</td>\n",
       "    </tr>\n",
       "    <tr>\n",
       "      <th>1</th>\n",
       "      <td>1094416919288037376</td>\n",
       "      <td>Sun Feb 10 02:05:01 +0000 2019</td>\n",
       "      <td>KamalaHarris</td>\n",
       "      <td>NaN</td>\n",
       "      <td>NaN</td>\n",
       "      <td>en</td>\n",
       "      <td>World-renowned climate scientists have warned ...</td>\n",
       "    </tr>\n",
       "    <tr>\n",
       "      <th>19095</th>\n",
       "      <td>1094917753495060480</td>\n",
       "      <td>Mon Feb 11 11:15:09 +0000 2019</td>\n",
       "      <td>ProfStrachan</td>\n",
       "      <td>NaN</td>\n",
       "      <td>[ProfStrachan, HarrisonFordLA]</td>\n",
       "      <td>en</td>\n",
       "      <td>RT @ProfStrachan: Great intervention from Harr...</td>\n",
       "    </tr>\n",
       "    <tr>\n",
       "      <th>19096</th>\n",
       "      <td>1094917749632061440</td>\n",
       "      <td>Mon Feb 11 11:15:08 +0000 2019</td>\n",
       "      <td>Asj_99</td>\n",
       "      <td>NaN</td>\n",
       "      <td>[TheGoodGodAbove]</td>\n",
       "      <td>en</td>\n",
       "      <td>RT @TheGoodGodAbove: ATTENTION CLIMATE CHANGE ...</td>\n",
       "    </tr>\n",
       "    <tr>\n",
       "      <th>19097</th>\n",
       "      <td>1094917746469621761</td>\n",
       "      <td>Mon Feb 11 11:15:08 +0000 2019</td>\n",
       "      <td>WorldBankKenya</td>\n",
       "      <td>[Climatechange]</td>\n",
       "      <td>[WHO]</td>\n",
       "      <td>en</td>\n",
       "      <td>#Climatechange is the greatest challenge of th...</td>\n",
       "    </tr>\n",
       "    <tr>\n",
       "      <th>19098</th>\n",
       "      <td>1094917746071003137</td>\n",
       "      <td>Mon Feb 11 11:15:07 +0000 2019</td>\n",
       "      <td>MarkWEccleston</td>\n",
       "      <td>NaN</td>\n",
       "      <td>[realDonaldTrump]</td>\n",
       "      <td>en</td>\n",
       "      <td>@realDonaldTrump Read the news genius...Sydney...</td>\n",
       "    </tr>\n",
       "    <tr>\n",
       "      <th>19099</th>\n",
       "      <td>1094917741591416832</td>\n",
       "      <td>Mon Feb 11 11:15:06 +0000 2019</td>\n",
       "      <td>AmyleeProvost1</td>\n",
       "      <td>NaN</td>\n",
       "      <td>[hugh_killen, AgForceQLD, ABCRural, realDonald...</td>\n",
       "      <td>en</td>\n",
       "      <td>@hugh_killen @AgForceQLD @ABCRural @realDonald...</td>\n",
       "    </tr>\n",
       "    <tr>\n",
       "      <th>19100</th>\n",
       "      <td>1094917736856092678</td>\n",
       "      <td>Mon Feb 11 11:15:05 +0000 2019</td>\n",
       "      <td>KafkaVoltaire</td>\n",
       "      <td>NaN</td>\n",
       "      <td>[ClubeGaffer]</td>\n",
       "      <td>en</td>\n",
       "      <td>RT @ClubeGaffer: Morrison trying to re-establi...</td>\n",
       "    </tr>\n",
       "    <tr>\n",
       "      <th>19101</th>\n",
       "      <td>1094917731827232768</td>\n",
       "      <td>Mon Feb 11 11:15:04 +0000 2019</td>\n",
       "      <td>prinaldi2001</td>\n",
       "      <td>NaN</td>\n",
       "      <td>[MikeLevinCA]</td>\n",
       "      <td>en</td>\n",
       "      <td>RT @MikeLevinCA: Some want you to believe that...</td>\n",
       "    </tr>\n",
       "    <tr>\n",
       "      <th>19102</th>\n",
       "      <td>1094917731688820736</td>\n",
       "      <td>Mon Feb 11 11:15:04 +0000 2019</td>\n",
       "      <td>southafricanmag</td>\n",
       "      <td>NaN</td>\n",
       "      <td>NaN</td>\n",
       "      <td>en</td>\n",
       "      <td>Mercy Muendo, PhD Student in Climate Change Te...</td>\n",
       "    </tr>\n",
       "    <tr>\n",
       "      <th>19103</th>\n",
       "      <td>1094917730808070145</td>\n",
       "      <td>Mon Feb 11 11:15:04 +0000 2019</td>\n",
       "      <td>lilphaag</td>\n",
       "      <td>[science]</td>\n",
       "      <td>[rainnwilson]</td>\n",
       "      <td>en</td>\n",
       "      <td>RT @rainnwilson: Anti-Vaxxers shouldn’t be all...</td>\n",
       "    </tr>\n",
       "    <tr>\n",
       "      <th>19104</th>\n",
       "      <td>1094917728035635200</td>\n",
       "      <td>Mon Feb 11 11:15:03 +0000 2019</td>\n",
       "      <td>LiberalElite2</td>\n",
       "      <td>NaN</td>\n",
       "      <td>[RBReich]</td>\n",
       "      <td>en</td>\n",
       "      <td>RT @RBReich: Dems are fielding the most divers...</td>\n",
       "    </tr>\n",
       "    <tr>\n",
       "      <th>19106</th>\n",
       "      <td>1094917721731457025</td>\n",
       "      <td>Mon Feb 11 11:15:02 +0000 2019</td>\n",
       "      <td>p_hannam</td>\n",
       "      <td>NaN</td>\n",
       "      <td>[mcannonbrookes]</td>\n",
       "      <td>en</td>\n",
       "      <td>RT @mcannonbrookes: When all 3 parties are com...</td>\n",
       "    </tr>\n",
       "    <tr>\n",
       "      <th>19105</th>\n",
       "      <td>1094917724684369922</td>\n",
       "      <td>Mon Feb 11 11:15:02 +0000 2019</td>\n",
       "      <td>David_Baucom_</td>\n",
       "      <td>NaN</td>\n",
       "      <td>[NatGeo]</td>\n",
       "      <td>en</td>\n",
       "      <td>RT @NatGeo: The region is already feeling the ...</td>\n",
       "    </tr>\n",
       "    <tr>\n",
       "      <th>19107</th>\n",
       "      <td>1094917719571468289</td>\n",
       "      <td>Mon Feb 11 11:15:01 +0000 2019</td>\n",
       "      <td>ZacharyHinson6</td>\n",
       "      <td>NaN</td>\n",
       "      <td>[RyanHillMI, realDonaldTrump]</td>\n",
       "      <td>en</td>\n",
       "      <td>@RyanHillMI @realDonaldTrump Climate change ha...</td>\n",
       "    </tr>\n",
       "    <tr>\n",
       "      <th>19108</th>\n",
       "      <td>1094917716501319681</td>\n",
       "      <td>Mon Feb 11 11:15:00 +0000 2019</td>\n",
       "      <td>nljac000</td>\n",
       "      <td>NaN</td>\n",
       "      <td>[TheGoodGodAbove]</td>\n",
       "      <td>en</td>\n",
       "      <td>RT @TheGoodGodAbove: ATTENTION CLIMATE CHANGE ...</td>\n",
       "    </tr>\n",
       "    <tr>\n",
       "      <th>19109</th>\n",
       "      <td>1094917713699454976</td>\n",
       "      <td>Mon Feb 11 11:15:00 +0000 2019</td>\n",
       "      <td>MaggieNoakes77</td>\n",
       "      <td>NaN</td>\n",
       "      <td>[joycemcm, TheScotsman]</td>\n",
       "      <td>en</td>\n",
       "      <td>RT @joycemcm: This week's column @TheScotsman:...</td>\n",
       "    </tr>\n",
       "    <tr>\n",
       "      <th>19110</th>\n",
       "      <td>1094917711568752640</td>\n",
       "      <td>Mon Feb 11 11:14:59 +0000 2019</td>\n",
       "      <td>erwintenhumberg</td>\n",
       "      <td>NaN</td>\n",
       "      <td>[pewresearch]</td>\n",
       "      <td>en</td>\n",
       "      <td>RT @pewresearch: Share who say climate change ...</td>\n",
       "    </tr>\n",
       "    <tr>\n",
       "      <th>19111</th>\n",
       "      <td>1094917707684818944</td>\n",
       "      <td>Mon Feb 11 11:14:58 +0000 2019</td>\n",
       "      <td>smclark206</td>\n",
       "      <td>NaN</td>\n",
       "      <td>[MikeDrucker]</td>\n",
       "      <td>en</td>\n",
       "      <td>RT @MikeDrucker: Good thing this isn’t the net...</td>\n",
       "    </tr>\n",
       "  </tbody>\n",
       "</table>\n",
       "</div>"
      ],
      "text/plain": [
       "                twitter_id                      created_at      screen_name  \\\n",
       "2      1094744351803170816  Sun Feb 10 23:46:07 +0000 2019     amyklobuchar   \n",
       "0      1094622889054212096  Sun Feb 10 15:43:28 +0000 2019              AOC   \n",
       "1      1094416919288037376  Sun Feb 10 02:05:01 +0000 2019     KamalaHarris   \n",
       "19095  1094917753495060480  Mon Feb 11 11:15:09 +0000 2019     ProfStrachan   \n",
       "19096  1094917749632061440  Mon Feb 11 11:15:08 +0000 2019           Asj_99   \n",
       "19097  1094917746469621761  Mon Feb 11 11:15:08 +0000 2019   WorldBankKenya   \n",
       "19098  1094917746071003137  Mon Feb 11 11:15:07 +0000 2019   MarkWEccleston   \n",
       "19099  1094917741591416832  Mon Feb 11 11:15:06 +0000 2019   AmyleeProvost1   \n",
       "19100  1094917736856092678  Mon Feb 11 11:15:05 +0000 2019    KafkaVoltaire   \n",
       "19101  1094917731827232768  Mon Feb 11 11:15:04 +0000 2019     prinaldi2001   \n",
       "19102  1094917731688820736  Mon Feb 11 11:15:04 +0000 2019  southafricanmag   \n",
       "19103  1094917730808070145  Mon Feb 11 11:15:04 +0000 2019         lilphaag   \n",
       "19104  1094917728035635200  Mon Feb 11 11:15:03 +0000 2019    LiberalElite2   \n",
       "19106  1094917721731457025  Mon Feb 11 11:15:02 +0000 2019         p_hannam   \n",
       "19105  1094917724684369922  Mon Feb 11 11:15:02 +0000 2019    David_Baucom_   \n",
       "19107  1094917719571468289  Mon Feb 11 11:15:01 +0000 2019   ZacharyHinson6   \n",
       "19108  1094917716501319681  Mon Feb 11 11:15:00 +0000 2019         nljac000   \n",
       "19109  1094917713699454976  Mon Feb 11 11:15:00 +0000 2019   MaggieNoakes77   \n",
       "19110  1094917711568752640  Mon Feb 11 11:14:59 +0000 2019  erwintenhumberg   \n",
       "19111  1094917707684818944  Mon Feb 11 11:14:58 +0000 2019       smclark206   \n",
       "\n",
       "         hashtags_list                                      mentions_list  \\\n",
       "2                  NaN                                  [realDonaldTrump]   \n",
       "0                  NaN                                                NaN   \n",
       "1                  NaN                                                NaN   \n",
       "19095              NaN                     [ProfStrachan, HarrisonFordLA]   \n",
       "19096              NaN                                  [TheGoodGodAbove]   \n",
       "19097  [Climatechange]                                              [WHO]   \n",
       "19098              NaN                                  [realDonaldTrump]   \n",
       "19099              NaN  [hugh_killen, AgForceQLD, ABCRural, realDonald...   \n",
       "19100              NaN                                      [ClubeGaffer]   \n",
       "19101              NaN                                      [MikeLevinCA]   \n",
       "19102              NaN                                                NaN   \n",
       "19103        [science]                                      [rainnwilson]   \n",
       "19104              NaN                                          [RBReich]   \n",
       "19106              NaN                                   [mcannonbrookes]   \n",
       "19105              NaN                                           [NatGeo]   \n",
       "19107              NaN                      [RyanHillMI, realDonaldTrump]   \n",
       "19108              NaN                                  [TheGoodGodAbove]   \n",
       "19109              NaN                            [joycemcm, TheScotsman]   \n",
       "19110              NaN                                      [pewresearch]   \n",
       "19111              NaN                                      [MikeDrucker]   \n",
       "\n",
       "      lang                                               text  \n",
       "2       en  Science is on my side, @realDonaldTrump. Looki...  \n",
       "0       en  “Climate change is not a market glitch to be f...  \n",
       "1       en  World-renowned climate scientists have warned ...  \n",
       "19095   en  RT @ProfStrachan: Great intervention from Harr...  \n",
       "19096   en  RT @TheGoodGodAbove: ATTENTION CLIMATE CHANGE ...  \n",
       "19097   en  #Climatechange is the greatest challenge of th...  \n",
       "19098   en  @realDonaldTrump Read the news genius...Sydney...  \n",
       "19099   en  @hugh_killen @AgForceQLD @ABCRural @realDonald...  \n",
       "19100   en  RT @ClubeGaffer: Morrison trying to re-establi...  \n",
       "19101   en  RT @MikeLevinCA: Some want you to believe that...  \n",
       "19102   en  Mercy Muendo, PhD Student in Climate Change Te...  \n",
       "19103   en  RT @rainnwilson: Anti-Vaxxers shouldn’t be all...  \n",
       "19104   en  RT @RBReich: Dems are fielding the most divers...  \n",
       "19106   en  RT @mcannonbrookes: When all 3 parties are com...  \n",
       "19105   en  RT @NatGeo: The region is already feeling the ...  \n",
       "19107   en  @RyanHillMI @realDonaldTrump Climate change ha...  \n",
       "19108   en  RT @TheGoodGodAbove: ATTENTION CLIMATE CHANGE ...  \n",
       "19109   en  RT @joycemcm: This week's column @TheScotsman:...  \n",
       "19110   en  RT @pewresearch: Share who say climate change ...  \n",
       "19111   en  RT @MikeDrucker: Good thing this isn’t the net...  "
      ]
     },
     "execution_count": 12,
     "metadata": {},
     "output_type": "execute_result"
    }
   ],
   "source": [
    "xx=[]\n",
    "for element in tweets_list:\n",
    "    el=element\n",
    "    el['twitter_id']=el['id']\n",
    "    el['screen_name']=el['user']['screen_name']\n",
    "    elhas=el.get('hashtags',None) \n",
    "    if elhas:\n",
    "        el['hashtags_list']=[]\n",
    "        for i in elhas: \n",
    "            el['hashtags_list'].append(i[\"text\"])\n",
    "    elment=el.get('user_mentions',None) \n",
    "    if elment:\n",
    "        el['all_mentions_list']=[]\n",
    "        for i in elment: \n",
    "            el['all_mentions_list'].append(i[\"screen_name\"])\n",
    "        el['mentions_list']=[i for i in el['all_mentions_list']] \n",
    "    xx.append(el)\n",
    "mt=pd.DataFrame(xx)\n",
    "mt=mt[[\"twitter_id\",\"created_at\",\"screen_name\",\"hashtags_list\",'mentions_list',\"lang\",\"text\"]] #,'retweeted_screen_name']] \n",
    "mt=mt.sort_values(by='created_at',ascending=False)\n",
    "mt[:20]"
   ]
  },
  {
   "cell_type": "code",
   "execution_count": 13,
   "metadata": {},
   "outputs": [
    {
     "name": "stdout",
     "output_type": "stream",
     "text": [
      "The Climate Change dataframe contains 20017 tweets from Sun Feb 10 02:05:01 +0000 2019 to Mon Feb 11 11:15:09 +0000 2019\n"
     ]
    }
   ],
   "source": [
    "evd=mt['created_at']\n",
    "evd=pd.to_datetime(evd)\n",
    "mt['date']=evd\n",
    "mt=mt.sort_values(by=\"date\")\n",
    "print \"The\", st, \"dataframe contains\", len(mt), \"tweets\", \"from\", mt.iloc[0]['created_at'], \"to\", mt.iloc[-1]['created_at']"
   ]
  },
  {
   "cell_type": "markdown",
   "metadata": {},
   "source": [
    "**Pickling the dataframe (for later use)**"
   ]
  },
  {
   "cell_type": "code",
   "execution_count": 14,
   "metadata": {},
   "outputs": [],
   "source": [
    "stc=st.replace(\" \",\"\")\n",
    "plname=stc+'_df.pic'\n",
    "mt.to_pickle(plname)"
   ]
  },
  {
   "cell_type": "code",
   "execution_count": null,
   "metadata": {},
   "outputs": [],
   "source": []
  }
 ],
 "metadata": {
  "kernelspec": {
   "display_name": "Python 2",
   "language": "python",
   "name": "python2"
  },
  "language_info": {
   "codemirror_mode": {
    "name": "ipython",
    "version": 2
   },
   "file_extension": ".py",
   "mimetype": "text/x-python",
   "name": "python",
   "nbconvert_exporter": "python",
   "pygments_lexer": "ipython2",
   "version": "2.7.15"
  }
 },
 "nbformat": 4,
 "nbformat_minor": 1
}
